{
  "nbformat": 4,
  "nbformat_minor": 0,
  "metadata": {
    "colab": {
      "name": "pdfs.ipynb",
      "provenance": []
    },
    "kernelspec": {
      "name": "python3",
      "display_name": "Python 3"
    }
  },
  "cells": [
    {
      "cell_type": "code",
      "metadata": {
        "id": "2cZSnB12OSVA",
        "colab_type": "code",
        "colab": {}
      },
      "source": [
        "from gtts import gTTS"
      ],
      "execution_count": 12,
      "outputs": []
    },
    {
      "cell_type": "code",
      "metadata": {
        "id": "CI_ZkI1ZPTO5",
        "colab_type": "code",
        "colab": {}
      },
      "source": [
        "texto = 'aquecimento global'"
      ],
      "execution_count": 21,
      "outputs": []
    },
    {
      "cell_type": "code",
      "metadata": {
        "id": "UpoptNbVRQ9b",
        "colab_type": "code",
        "colab": {}
      },
      "source": [
        "language = 'pt-br'"
      ],
      "execution_count": 22,
      "outputs": []
    },
    {
      "cell_type": "code",
      "metadata": {
        "id": "E9fnzndiRSou",
        "colab_type": "code",
        "colab": {}
      },
      "source": [
        "fala = gTTS(text = texto, lang = language, slow =False)"
      ],
      "execution_count": 23,
      "outputs": []
    },
    {
      "cell_type": "code",
      "metadata": {
        "id": "7bJs3A5DReli",
        "colab_type": "code",
        "colab": {}
      },
      "source": [
        "fala.save('aquecimento.mp3')"
      ],
      "execution_count": 24,
      "outputs": []
    },
    {
      "cell_type": "code",
      "metadata": {
        "id": "gy5mGviGYnml",
        "colab_type": "code",
        "colab": {}
      },
      "source": [
        "with open('star.txt') as livro:\n",
        "  texto = livro.read()"
      ],
      "execution_count": 55,
      "outputs": []
    },
    {
      "cell_type": "code",
      "metadata": {
        "id": "FN-KQ1U9Z2Rs",
        "colab_type": "code",
        "colab": {}
      },
      "source": [
        "texto = livro.read()"
      ],
      "execution_count": 49,
      "outputs": []
    },
    {
      "cell_type": "code",
      "metadata": {
        "id": "e0dmKaYQbFw0",
        "colab_type": "code",
        "colab": {
          "base_uri": "https://localhost:8080/",
          "height": 205
        },
        "outputId": "1eea147a-311f-48f5-8d15-9534420ab13e"
      },
      "source": [
        "texto"
      ],
      "execution_count": 56,
      "outputs": [
        {
          "output_type": "execute_result",
          "data": {
            "application/vnd.google.colaboratory.intrinsic+json": {
              "type": "string"
            },
            "text/plain": [
              "\"Don't act so surprised, Your Highness. You weren't on any mercy mission this time. Several transmissions were beamed to this ship by Rebel spies. I want to know what happened to the plans they sent you.\\nI don't know what you're talking about. I am a member of the Imperial Senate on a diplomatic mission to Alderaan-- But with the blast shield down, I can't even see! How am I supposed to fight? I care. So, what do you think of her, Han?\\n\\nWhat?! Remember, a Jedi can feel the Force flowing through him. I call it luck. You don't believe in the Force, do you?\\n\\nBut with the blast shield down, I can't even see! How am I supposed to fight?\\nNo! Alderaan is peaceful. We have no weapons. You can't possibly… Partially, but it also obeys your commands. I find your lack of faith disturbing. Hey, Luke! May the Force be with you. Obi-Wan is here. The Force is with him.\\n\\nI want to come with you to Alderaan. There's nothing for me here now. I want to learn the ways of the Force and be a Jedi, like my father before me.\\nHe is here.\\nYou mean it controls your actions?\\nAs you wish.\\nDon't be too proud of this technological terror you've constructed. The ability to destroy a planet is insignificant next to the power of the Force. Still, she's got a lot of spirit. I don't know, what do you think?\\n\\nShe must have hidden the plans in the escape pod. Send a detachment down to retrieve them, and see to it personally, Commander. There'll be no one to stop us this time!\\nDon't underestimate the Force.\\nYour eyes can deceive you. Don't trust them.\\nBut with the blast shield down, I can't even see! How am I supposed to fight? Hokey religions and ancient weapons are no match for a good blaster at your side, kid. I suggest you try it again, Luke. This time, let go your conscious self and act on instinct.\\n\\nRemember, a Jedi can feel the Force flowing through him. No! Alderaan is peaceful. We have no weapons. You can't possibly… I care. So, what do you think of her, Han? Look, I ain't in this for your revolution, and I'm not in it for you, Princess. I expect to be well paid. I'm in it for the money.\\n\\nYou are a part of the Rebel Alliance and a traitor! Take her away! Don't underestimate the Force. No! Alderaan is peaceful. We have no weapons. You can't possibly… Your eyes can deceive you. Don't trust them.\\n\\nNo! Alderaan is peaceful. We have no weapons. You can't possibly… But with the blast shield down, I can't even see! How am I supposed to fight? Look, I ain't in this for your revolution, and I'm not in it for you, Princess. I expect to be well paid. I'm in it for the money.\\n\\nYour eyes can deceive you. Don't trust them. You don't believe in the Force, do you? Hey, Luke! May the Force be with you. As you wish. I need your help, Luke. She needs your help. I'm getting too old for this sort of thing.\\n\\nYou mean it controls your actions? In my experience, there is no such thing as luck. Kid, I've flown from one side of this galaxy to the other. I've seen a lot of strange stuff, but I've never seen anything to make me believe there's one all-powerful Force controlling everything. There's no mystical energy field that controls my destiny. It's all a lot of simple tricks and nonsense.\\n\\nA tremor in the Force. The last time I felt it was in the presence of my old master. Remember, a Jedi can feel the Force flowing through him. Oh God, my uncle. How am I ever gonna explain this? Look, I ain't in this for your revolution, and I'm not in it for you, Princess. I expect to be well paid. I'm in it for the money.\\n\\nOh God, my uncle. How am I ever gonna explain this? I find your lack of faith disturbing. Don't be too proud of this technological terror you've constructed. The ability to destroy a planet is insignificant next to the power of the Force.\\n\\nOh God, my uncle. How am I ever gonna explain this? I need your help, Luke. She needs your help. I'm getting too old for this sort of thing. What?! What!? You're all clear, kid. Let's blow this thing and go home!\\n\\nIn my experience, there is no such thing as luck. Kid, I've flown from one side of this galaxy to the other. I've seen a lot of strange stuff, but I've never seen anything to make me believe there's one all-powerful Force controlling everything. There's no mystical energy field that controls my destiny. It's all a lot of simple tricks and nonsense.\\n\\nLook, I can take you as far as Anchorhead. You can get a transport there to Mos Eisley or wherever you're going. In my experience, there is no such thing as luck. Don't underestimate the Force. She must have hidden the plans in the escape pod. Send a detachment down to retrieve them, and see to it personally, Commander. There'll be no one to stop us this time!\\n\""
            ]
          },
          "metadata": {
            "tags": []
          },
          "execution_count": 56
        }
      ]
    },
    {
      "cell_type": "code",
      "metadata": {
        "id": "QlraJJNEaszG",
        "colab_type": "code",
        "colab": {}
      },
      "source": [
        "language = 'en'"
      ],
      "execution_count": 51,
      "outputs": []
    },
    {
      "cell_type": "code",
      "metadata": {
        "id": "ThPGtBGRawAm",
        "colab_type": "code",
        "colab": {}
      },
      "source": [
        "fala = gTTS(text = texto, lang=language, slow=False)"
      ],
      "execution_count": 52,
      "outputs": []
    },
    {
      "cell_type": "code",
      "metadata": {
        "id": "vUZmbTo3a_7I",
        "colab_type": "code",
        "colab": {}
      },
      "source": [
        "fala.save('star.mp3')"
      ],
      "execution_count": 54,
      "outputs": []
    },
    {
      "cell_type": "code",
      "metadata": {
        "id": "2h32vrgnbK-g",
        "colab_type": "code",
        "colab": {}
      },
      "source": [
        ""
      ],
      "execution_count": null,
      "outputs": []
    }
  ]
}